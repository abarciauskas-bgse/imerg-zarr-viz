{
 "cells": [
  {
   "cell_type": "code",
   "execution_count": 1,
   "id": "intensive-nebraska",
   "metadata": {},
   "outputs": [
    {
     "name": "stderr",
     "output_type": "stream",
     "text": [
      "/Users/aimeebarciauskas/miniconda3/lib/python3.9/site-packages/carbonplan_data/__init__.py:29: UserWarning: CARBONPLAN_DATA environment variable not set, `carbonplan.data.cat` may not work as expected.Known data locations include: ['https://storage.googleapis.com/carbonplan-data', 'https://carbonplan.blob.core.windows.net/carbonplan-data'].\n",
      "  warnings.warn(msg)\n"
     ]
    }
   ],
   "source": [
    "import xarray as xr\n",
    "import pandas as pd\n",
    "import rioxarray\n",
    "from ndpyramid import pyramid_reproject\n",
    "from carbonplan_data.utils import set_zarr_encoding\n",
    "from carbonplan_data.metadata import get_cf_global_attrs"
   ]
  },
  {
   "cell_type": "code",
   "execution_count": 7,
   "id": "filled-hungarian",
   "metadata": {},
   "outputs": [],
   "source": [
    "# input dataset\n",
    "path = \"../data/3B-MO.MS.MRG.3IMERG.20200501-S000000-E235959.05.V06B.HDF5.tif\"\n",
    "\n",
    "# open and extract the input dataset\n",
    "ds = (\n",
    "    rioxarray.open_rasterio(path)\n",
    "    .to_dataset(name=\"precipitation\")\n",
    "    .squeeze()\n",
    "    .reset_coords([\"band\"], drop=True)\n",
    ")"
   ]
  },
  {
   "cell_type": "code",
   "execution_count": 8,
   "id": "short-collins",
   "metadata": {},
   "outputs": [],
   "source": [
    "# # create the pyramid\n",
    "dt = pyramid_reproject(ds, levels=6)"
   ]
  },
  {
   "cell_type": "code",
   "execution_count": 23,
   "id": "subjective-bonus",
   "metadata": {},
   "outputs": [
    {
     "data": {
      "text/plain": [
       "(DataNode(name='0', parent='root', children=[],\n",
       " data=<xarray.Dataset>\n",
       "      Dimensions:        (x: 128, y: 128)\n",
       "      Coordinates:\n",
       "        * x              (x) float64 -1.987e+07 -1.956e+07 ... 1.956e+07 1.987e+07\n",
       "        * y              (y) float64 1.989e+07 1.958e+07 ... -1.958e+07 -1.989e+07\n",
       "          spatial_ref    int64 0\n",
       "      Data variables:\n",
       "          precipitation  (y, x) float32 0.2135 0.2135 0.2135 ... 0.2135 0.2135 0.2135\n",
       " ),\n",
       " DataNode(name='1', parent='root', children=[],\n",
       " data=<xarray.Dataset>\n",
       "      Dimensions:        (x: 256, y: 256)\n",
       "      Coordinates:\n",
       "        * x              (x) float64 -1.995e+07 -1.979e+07 ... 1.979e+07 1.995e+07\n",
       "        * y              (y) float64 1.997e+07 1.981e+07 ... -1.981e+07 -1.997e+07\n",
       "          spatial_ref    int64 0\n",
       "      Data variables:\n",
       "          precipitation  (y, x) float32 0.2135 0.2135 0.2135 ... 0.2135 0.2135 0.2135\n",
       " ),\n",
       " DataNode(name='2', parent='root', children=[],\n",
       " data=<xarray.Dataset>\n",
       "      Dimensions:        (x: 512, y: 512)\n",
       "      Coordinates:\n",
       "        * x              (x) float64 -1.999e+07 -1.991e+07 ... 1.991e+07 1.999e+07\n",
       "        * y              (y) float64 2.001e+07 1.993e+07 ... -1.993e+07 -2.001e+07\n",
       "          spatial_ref    int64 0\n",
       "      Data variables:\n",
       "          precipitation  (y, x) float32 0.2135 0.2135 0.2135 ... 0.2135 0.2135 0.2135\n",
       " ),\n",
       " DataNode(name='3', parent='root', children=[],\n",
       " data=<xarray.Dataset>\n",
       "      Dimensions:        (x: 1024, y: 1024)\n",
       "      Coordinates:\n",
       "        * x              (x) float64 -2.001e+07 -1.997e+07 ... 1.997e+07 2.001e+07\n",
       "        * y              (y) float64 2.003e+07 1.999e+07 ... -1.999e+07 -2.003e+07\n",
       "          spatial_ref    int64 0\n",
       "      Data variables:\n",
       "          precipitation  (y, x) float32 0.2135 0.2135 0.2135 ... 0.2135 0.2135 0.2135\n",
       " ),\n",
       " DataNode(name='4', parent='root', children=[],\n",
       " data=<xarray.Dataset>\n",
       "      Dimensions:        (x: 2048, y: 2048)\n",
       "      Coordinates:\n",
       "        * x              (x) float64 -2.002e+07 -2e+07 -1.998e+07 ... 2e+07 2.002e+07\n",
       "        * y              (y) float64 2.004e+07 2.002e+07 ... -2.002e+07 -2.004e+07\n",
       "          spatial_ref    int64 0\n",
       "      Data variables:\n",
       "          precipitation  (y, x) float32 0.2135 0.2135 0.2135 ... 0.2135 0.2135 0.2135\n",
       " ),\n",
       " DataNode(name='5', parent='root', children=[],\n",
       " data=<xarray.Dataset>\n",
       "      Dimensions:        (x: 4096, y: 4096)\n",
       "      Coordinates:\n",
       "        * x              (x) float64 -2.002e+07 -2.001e+07 ... 2.001e+07 2.002e+07\n",
       "        * y              (y) float64 2.004e+07 2.003e+07 ... -2.003e+07 -2.004e+07\n",
       "          spatial_ref    int64 0\n",
       "      Data variables:\n",
       "          precipitation  (y, x) float32 0.2135 0.2135 0.2135 ... 0.2135 0.2135 0.2135\n",
       " ))"
      ]
     },
     "execution_count": 23,
     "metadata": {},
     "output_type": "execute_result"
    }
   ],
   "source": [
    "dt.children"
   ]
  },
  {
   "cell_type": "code",
   "execution_count": 24,
   "id": "prostate-decline",
   "metadata": {},
   "outputs": [],
   "source": [
    "# modify the data in the pyramid\n",
    "for child in dt.children:\n",
    "    child.ds = set_zarr_encoding(\n",
    "        child.ds, codec_config={\"id\": \"zlib\", \"level\": 1}, float_dtype=\"float32\"\n",
    "    )\n",
    "    child.ds = child.ds.chunk({\"x\": 128, \"y\": 128})\n",
    "    child.ds[\"precipitation\"].attrs.clear()\n",
    "dt.attrs = get_cf_global_attrs()"
   ]
  },
  {
   "cell_type": "code",
   "execution_count": 25,
   "id": "human-property",
   "metadata": {},
   "outputs": [],
   "source": [
    "# write the pyramid to zarr\n",
    "save_path = \"../data\"\n",
    "dt.to_zarr(save_path + \"/gpmimerg.zarr\", consolidated=True)"
   ]
  }
 ],
 "metadata": {
  "kernelspec": {
   "display_name": "Python 3",
   "language": "python",
   "name": "python3"
  },
  "language_info": {
   "codemirror_mode": {
    "name": "ipython",
    "version": 3
   },
   "file_extension": ".py",
   "mimetype": "text/x-python",
   "name": "python",
   "nbconvert_exporter": "python",
   "pygments_lexer": "ipython3",
   "version": "3.9.2"
  }
 },
 "nbformat": 4,
 "nbformat_minor": 5
}
